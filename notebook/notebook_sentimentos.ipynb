{
  "cells": [
    {
      "cell_type": "markdown",
      "metadata": {
        "id": "view-in-github",
        "colab_type": "text"
      },
      "source": [
        "<a href=\"https://colab.research.google.com/github/jella/playstore-sentiment-analysis/blob/main/notebook/notebook_sentimentos.ipynb\" target=\"_parent\"><img src=\"https://colab.research.google.com/assets/colab-badge.svg\" alt=\"Open In Colab\"/></a>"
      ]
    },
    {
      "cell_type": "markdown",
      "id": "408acf92",
      "metadata": {
        "id": "408acf92"
      },
      "source": [
        "\n",
        "# Análise de Sentimentos - Google Play Store Reviews\n",
        "\n",
        "Este projeto tem como objetivo construir um modelo de Machine Learning para classificar avaliações de usuários como **positivas** ou **negativas** com base no conteúdo textual das reviews na Google Play Store.\n"
      ]
    },
    {
      "cell_type": "code",
      "execution_count": 101,
      "id": "7072a7ba",
      "metadata": {
        "colab": {
          "base_uri": "https://localhost:8080/"
        },
        "id": "7072a7ba",
        "outputId": "c201d7eb-c56d-43ef-f08a-0aef909ff442"
      },
      "outputs": [
        {
          "output_type": "stream",
          "name": "stderr",
          "text": [
            "[nltk_data] Downloading package stopwords to /root/nltk_data...\n",
            "[nltk_data]   Package stopwords is already up-to-date!\n"
          ]
        }
      ],
      "source": [
        "\n",
        "import pandas as pd\n",
        "import numpy as np\n",
        "import matplotlib.pyplot as plt\n",
        "import seaborn as sns\n",
        "import re, string, joblib\n",
        "\n",
        "import nltk\n",
        "from nltk.corpus import stopwords\n",
        "nltk.download('stopwords')\n",
        "\n",
        "from sklearn.pipeline import Pipeline\n",
        "from sklearn.feature_extraction.text import TfidfVectorizer\n",
        "from sklearn.model_selection import train_test_split, cross_val_predict, cross_val_score, GridSearchCV\n",
        "from sklearn.metrics import accuracy_score, confusion_matrix, classification_report\n",
        "from sklearn.naive_bayes import MultinomialNB\n",
        "from sklearn.svm import LinearSVC\n",
        "from sklearn.neighbors import KNeighborsClassifier\n",
        "from sklearn.tree import DecisionTreeClassifier\n",
        "\n",
        "from sklearn.pipeline import Pipeline\n",
        "from sklearn.feature_extraction.text import TfidfVectorizer\n",
        "from sklearn.naive_bayes import MultinomialNB\n",
        "from sklearn.svm import LinearSVC\n",
        "from sklearn.neighbors import KNeighborsClassifier\n",
        "from sklearn.tree import DecisionTreeClassifier\n"
      ]
    },
    {
      "cell_type": "markdown",
      "id": "aa1f0bdd",
      "metadata": {
        "id": "aa1f0bdd"
      },
      "source": [
        "### Carga dos Dados"
      ]
    },
    {
      "cell_type": "code",
      "execution_count": 102,
      "id": "fc8f883e",
      "metadata": {
        "colab": {
          "base_uri": "https://localhost:8080/",
          "height": 293
        },
        "id": "fc8f883e",
        "outputId": "8daeeffc-280c-48e9-d936-f9acbd21d50d"
      },
      "outputs": [
        {
          "output_type": "execute_result",
          "data": {
            "text/plain": [
              "                                            reviewId  \\\n",
              "0  gp:AOqpTOEhZuqSqqWnaKRgv-9ABYdajFUB0WugPGh-SG-...   \n",
              "1  gp:AOqpTOH0WP4IQKBZ2LrdNmFy_YmpPCVrV3diEU9KGm3...   \n",
              "2  gp:AOqpTOEMCkJB8Iq1p-r9dPwnSYadA5BkPWTf32Z1azu...   \n",
              "3  gp:AOqpTOGFrUWuKGycpje8kszj3uwHN6tU_fd4gLVFy9z...   \n",
              "4  gp:AOqpTOHls7DW8wmDFzTkHwxuqFkdNQtKHmO6Pt9jhZE...   \n",
              "\n",
              "                           userName  \\\n",
              "0                          Eric Tie   \n",
              "1                        john alpha   \n",
              "2                       Sudhakar .S   \n",
              "3  SKGflorida@bellsouth.net DAVID S   \n",
              "4                     Louann Stoker   \n",
              "\n",
              "                                           userImage  \\\n",
              "0  https://play-lh.googleusercontent.com/a-/AOh14...   \n",
              "1  https://play-lh.googleusercontent.com/a-/AOh14...   \n",
              "2  https://play-lh.googleusercontent.com/a-/AOh14...   \n",
              "3  https://play-lh.googleusercontent.com/-75aK0WF...   \n",
              "4  https://play-lh.googleusercontent.com/-pBcY_Z-...   \n",
              "\n",
              "                                             content  score  thumbsUpCount  \\\n",
              "0                      I cannot open the app anymore      1              0   \n",
              "1  I have been begging for a refund from this app...      1              0   \n",
              "2  Very costly for the premium version (approx In...      1              0   \n",
              "3  Used to keep me organized, but all the 2020 UP...      1              0   \n",
              "4                                Dan Birthday Oct 28      1              0   \n",
              "\n",
              "  reviewCreatedVersion                   at  \\\n",
              "0              5.4.0.6  2020-10-27 21:24:41   \n",
              "1                  NaN  2020-10-27 14:03:28   \n",
              "2                  NaN  2020-10-27 08:18:40   \n",
              "3                  NaN  2020-10-26 13:28:07   \n",
              "4              5.6.0.7  2020-10-26 06:10:50   \n",
              "\n",
              "                                        replyContent            repliedAt  \\\n",
              "0                                                NaN                  NaN   \n",
              "1  Please note that from checking our records, yo...  2020-10-27 15:05:52   \n",
              "2                                                NaN                  NaN   \n",
              "3  What do you find troublesome about the update?...  2020-10-26 14:58:29   \n",
              "4                                                NaN                  NaN   \n",
              "\n",
              "  sortOrder      appId  \n",
              "0    newest  com.anydo  \n",
              "1    newest  com.anydo  \n",
              "2    newest  com.anydo  \n",
              "3    newest  com.anydo  \n",
              "4    newest  com.anydo  "
            ],
            "text/html": [
              "\n",
              "  <div id=\"df-f001d5be-08aa-4b5a-80c5-64cd359bf96b\" class=\"colab-df-container\">\n",
              "    <div>\n",
              "<style scoped>\n",
              "    .dataframe tbody tr th:only-of-type {\n",
              "        vertical-align: middle;\n",
              "    }\n",
              "\n",
              "    .dataframe tbody tr th {\n",
              "        vertical-align: top;\n",
              "    }\n",
              "\n",
              "    .dataframe thead th {\n",
              "        text-align: right;\n",
              "    }\n",
              "</style>\n",
              "<table border=\"1\" class=\"dataframe\">\n",
              "  <thead>\n",
              "    <tr style=\"text-align: right;\">\n",
              "      <th></th>\n",
              "      <th>reviewId</th>\n",
              "      <th>userName</th>\n",
              "      <th>userImage</th>\n",
              "      <th>content</th>\n",
              "      <th>score</th>\n",
              "      <th>thumbsUpCount</th>\n",
              "      <th>reviewCreatedVersion</th>\n",
              "      <th>at</th>\n",
              "      <th>replyContent</th>\n",
              "      <th>repliedAt</th>\n",
              "      <th>sortOrder</th>\n",
              "      <th>appId</th>\n",
              "    </tr>\n",
              "  </thead>\n",
              "  <tbody>\n",
              "    <tr>\n",
              "      <th>0</th>\n",
              "      <td>gp:AOqpTOEhZuqSqqWnaKRgv-9ABYdajFUB0WugPGh-SG-...</td>\n",
              "      <td>Eric Tie</td>\n",
              "      <td>https://play-lh.googleusercontent.com/a-/AOh14...</td>\n",
              "      <td>I cannot open the app anymore</td>\n",
              "      <td>1</td>\n",
              "      <td>0</td>\n",
              "      <td>5.4.0.6</td>\n",
              "      <td>2020-10-27 21:24:41</td>\n",
              "      <td>NaN</td>\n",
              "      <td>NaN</td>\n",
              "      <td>newest</td>\n",
              "      <td>com.anydo</td>\n",
              "    </tr>\n",
              "    <tr>\n",
              "      <th>1</th>\n",
              "      <td>gp:AOqpTOH0WP4IQKBZ2LrdNmFy_YmpPCVrV3diEU9KGm3...</td>\n",
              "      <td>john alpha</td>\n",
              "      <td>https://play-lh.googleusercontent.com/a-/AOh14...</td>\n",
              "      <td>I have been begging for a refund from this app...</td>\n",
              "      <td>1</td>\n",
              "      <td>0</td>\n",
              "      <td>NaN</td>\n",
              "      <td>2020-10-27 14:03:28</td>\n",
              "      <td>Please note that from checking our records, yo...</td>\n",
              "      <td>2020-10-27 15:05:52</td>\n",
              "      <td>newest</td>\n",
              "      <td>com.anydo</td>\n",
              "    </tr>\n",
              "    <tr>\n",
              "      <th>2</th>\n",
              "      <td>gp:AOqpTOEMCkJB8Iq1p-r9dPwnSYadA5BkPWTf32Z1azu...</td>\n",
              "      <td>Sudhakar .S</td>\n",
              "      <td>https://play-lh.googleusercontent.com/a-/AOh14...</td>\n",
              "      <td>Very costly for the premium version (approx In...</td>\n",
              "      <td>1</td>\n",
              "      <td>0</td>\n",
              "      <td>NaN</td>\n",
              "      <td>2020-10-27 08:18:40</td>\n",
              "      <td>NaN</td>\n",
              "      <td>NaN</td>\n",
              "      <td>newest</td>\n",
              "      <td>com.anydo</td>\n",
              "    </tr>\n",
              "    <tr>\n",
              "      <th>3</th>\n",
              "      <td>gp:AOqpTOGFrUWuKGycpje8kszj3uwHN6tU_fd4gLVFy9z...</td>\n",
              "      <td>SKGflorida@bellsouth.net DAVID S</td>\n",
              "      <td>https://play-lh.googleusercontent.com/-75aK0WF...</td>\n",
              "      <td>Used to keep me organized, but all the 2020 UP...</td>\n",
              "      <td>1</td>\n",
              "      <td>0</td>\n",
              "      <td>NaN</td>\n",
              "      <td>2020-10-26 13:28:07</td>\n",
              "      <td>What do you find troublesome about the update?...</td>\n",
              "      <td>2020-10-26 14:58:29</td>\n",
              "      <td>newest</td>\n",
              "      <td>com.anydo</td>\n",
              "    </tr>\n",
              "    <tr>\n",
              "      <th>4</th>\n",
              "      <td>gp:AOqpTOHls7DW8wmDFzTkHwxuqFkdNQtKHmO6Pt9jhZE...</td>\n",
              "      <td>Louann Stoker</td>\n",
              "      <td>https://play-lh.googleusercontent.com/-pBcY_Z-...</td>\n",
              "      <td>Dan Birthday Oct 28</td>\n",
              "      <td>1</td>\n",
              "      <td>0</td>\n",
              "      <td>5.6.0.7</td>\n",
              "      <td>2020-10-26 06:10:50</td>\n",
              "      <td>NaN</td>\n",
              "      <td>NaN</td>\n",
              "      <td>newest</td>\n",
              "      <td>com.anydo</td>\n",
              "    </tr>\n",
              "  </tbody>\n",
              "</table>\n",
              "</div>\n",
              "    <div class=\"colab-df-buttons\">\n",
              "\n",
              "  <div class=\"colab-df-container\">\n",
              "    <button class=\"colab-df-convert\" onclick=\"convertToInteractive('df-f001d5be-08aa-4b5a-80c5-64cd359bf96b')\"\n",
              "            title=\"Convert this dataframe to an interactive table.\"\n",
              "            style=\"display:none;\">\n",
              "\n",
              "  <svg xmlns=\"http://www.w3.org/2000/svg\" height=\"24px\" viewBox=\"0 -960 960 960\">\n",
              "    <path d=\"M120-120v-720h720v720H120Zm60-500h600v-160H180v160Zm220 220h160v-160H400v160Zm0 220h160v-160H400v160ZM180-400h160v-160H180v160Zm440 0h160v-160H620v160ZM180-180h160v-160H180v160Zm440 0h160v-160H620v160Z\"/>\n",
              "  </svg>\n",
              "    </button>\n",
              "\n",
              "  <style>\n",
              "    .colab-df-container {\n",
              "      display:flex;\n",
              "      gap: 12px;\n",
              "    }\n",
              "\n",
              "    .colab-df-convert {\n",
              "      background-color: #E8F0FE;\n",
              "      border: none;\n",
              "      border-radius: 50%;\n",
              "      cursor: pointer;\n",
              "      display: none;\n",
              "      fill: #1967D2;\n",
              "      height: 32px;\n",
              "      padding: 0 0 0 0;\n",
              "      width: 32px;\n",
              "    }\n",
              "\n",
              "    .colab-df-convert:hover {\n",
              "      background-color: #E2EBFA;\n",
              "      box-shadow: 0px 1px 2px rgba(60, 64, 67, 0.3), 0px 1px 3px 1px rgba(60, 64, 67, 0.15);\n",
              "      fill: #174EA6;\n",
              "    }\n",
              "\n",
              "    .colab-df-buttons div {\n",
              "      margin-bottom: 4px;\n",
              "    }\n",
              "\n",
              "    [theme=dark] .colab-df-convert {\n",
              "      background-color: #3B4455;\n",
              "      fill: #D2E3FC;\n",
              "    }\n",
              "\n",
              "    [theme=dark] .colab-df-convert:hover {\n",
              "      background-color: #434B5C;\n",
              "      box-shadow: 0px 1px 3px 1px rgba(0, 0, 0, 0.15);\n",
              "      filter: drop-shadow(0px 1px 2px rgba(0, 0, 0, 0.3));\n",
              "      fill: #FFFFFF;\n",
              "    }\n",
              "  </style>\n",
              "\n",
              "    <script>\n",
              "      const buttonEl =\n",
              "        document.querySelector('#df-f001d5be-08aa-4b5a-80c5-64cd359bf96b button.colab-df-convert');\n",
              "      buttonEl.style.display =\n",
              "        google.colab.kernel.accessAllowed ? 'block' : 'none';\n",
              "\n",
              "      async function convertToInteractive(key) {\n",
              "        const element = document.querySelector('#df-f001d5be-08aa-4b5a-80c5-64cd359bf96b');\n",
              "        const dataTable =\n",
              "          await google.colab.kernel.invokeFunction('convertToInteractive',\n",
              "                                                    [key], {});\n",
              "        if (!dataTable) return;\n",
              "\n",
              "        const docLinkHtml = 'Like what you see? Visit the ' +\n",
              "          '<a target=\"_blank\" href=https://colab.research.google.com/notebooks/data_table.ipynb>data table notebook</a>'\n",
              "          + ' to learn more about interactive tables.';\n",
              "        element.innerHTML = '';\n",
              "        dataTable['output_type'] = 'display_data';\n",
              "        await google.colab.output.renderOutput(dataTable, element);\n",
              "        const docLink = document.createElement('div');\n",
              "        docLink.innerHTML = docLinkHtml;\n",
              "        element.appendChild(docLink);\n",
              "      }\n",
              "    </script>\n",
              "  </div>\n",
              "\n",
              "\n",
              "    <div id=\"df-e0af88d7-ac30-437d-a916-e311fc6133da\">\n",
              "      <button class=\"colab-df-quickchart\" onclick=\"quickchart('df-e0af88d7-ac30-437d-a916-e311fc6133da')\"\n",
              "                title=\"Suggest charts\"\n",
              "                style=\"display:none;\">\n",
              "\n",
              "<svg xmlns=\"http://www.w3.org/2000/svg\" height=\"24px\"viewBox=\"0 0 24 24\"\n",
              "     width=\"24px\">\n",
              "    <g>\n",
              "        <path d=\"M19 3H5c-1.1 0-2 .9-2 2v14c0 1.1.9 2 2 2h14c1.1 0 2-.9 2-2V5c0-1.1-.9-2-2-2zM9 17H7v-7h2v7zm4 0h-2V7h2v10zm4 0h-2v-4h2v4z\"/>\n",
              "    </g>\n",
              "</svg>\n",
              "      </button>\n",
              "\n",
              "<style>\n",
              "  .colab-df-quickchart {\n",
              "      --bg-color: #E8F0FE;\n",
              "      --fill-color: #1967D2;\n",
              "      --hover-bg-color: #E2EBFA;\n",
              "      --hover-fill-color: #174EA6;\n",
              "      --disabled-fill-color: #AAA;\n",
              "      --disabled-bg-color: #DDD;\n",
              "  }\n",
              "\n",
              "  [theme=dark] .colab-df-quickchart {\n",
              "      --bg-color: #3B4455;\n",
              "      --fill-color: #D2E3FC;\n",
              "      --hover-bg-color: #434B5C;\n",
              "      --hover-fill-color: #FFFFFF;\n",
              "      --disabled-bg-color: #3B4455;\n",
              "      --disabled-fill-color: #666;\n",
              "  }\n",
              "\n",
              "  .colab-df-quickchart {\n",
              "    background-color: var(--bg-color);\n",
              "    border: none;\n",
              "    border-radius: 50%;\n",
              "    cursor: pointer;\n",
              "    display: none;\n",
              "    fill: var(--fill-color);\n",
              "    height: 32px;\n",
              "    padding: 0;\n",
              "    width: 32px;\n",
              "  }\n",
              "\n",
              "  .colab-df-quickchart:hover {\n",
              "    background-color: var(--hover-bg-color);\n",
              "    box-shadow: 0 1px 2px rgba(60, 64, 67, 0.3), 0 1px 3px 1px rgba(60, 64, 67, 0.15);\n",
              "    fill: var(--button-hover-fill-color);\n",
              "  }\n",
              "\n",
              "  .colab-df-quickchart-complete:disabled,\n",
              "  .colab-df-quickchart-complete:disabled:hover {\n",
              "    background-color: var(--disabled-bg-color);\n",
              "    fill: var(--disabled-fill-color);\n",
              "    box-shadow: none;\n",
              "  }\n",
              "\n",
              "  .colab-df-spinner {\n",
              "    border: 2px solid var(--fill-color);\n",
              "    border-color: transparent;\n",
              "    border-bottom-color: var(--fill-color);\n",
              "    animation:\n",
              "      spin 1s steps(1) infinite;\n",
              "  }\n",
              "\n",
              "  @keyframes spin {\n",
              "    0% {\n",
              "      border-color: transparent;\n",
              "      border-bottom-color: var(--fill-color);\n",
              "      border-left-color: var(--fill-color);\n",
              "    }\n",
              "    20% {\n",
              "      border-color: transparent;\n",
              "      border-left-color: var(--fill-color);\n",
              "      border-top-color: var(--fill-color);\n",
              "    }\n",
              "    30% {\n",
              "      border-color: transparent;\n",
              "      border-left-color: var(--fill-color);\n",
              "      border-top-color: var(--fill-color);\n",
              "      border-right-color: var(--fill-color);\n",
              "    }\n",
              "    40% {\n",
              "      border-color: transparent;\n",
              "      border-right-color: var(--fill-color);\n",
              "      border-top-color: var(--fill-color);\n",
              "    }\n",
              "    60% {\n",
              "      border-color: transparent;\n",
              "      border-right-color: var(--fill-color);\n",
              "    }\n",
              "    80% {\n",
              "      border-color: transparent;\n",
              "      border-right-color: var(--fill-color);\n",
              "      border-bottom-color: var(--fill-color);\n",
              "    }\n",
              "    90% {\n",
              "      border-color: transparent;\n",
              "      border-bottom-color: var(--fill-color);\n",
              "    }\n",
              "  }\n",
              "</style>\n",
              "\n",
              "      <script>\n",
              "        async function quickchart(key) {\n",
              "          const quickchartButtonEl =\n",
              "            document.querySelector('#' + key + ' button');\n",
              "          quickchartButtonEl.disabled = true;  // To prevent multiple clicks.\n",
              "          quickchartButtonEl.classList.add('colab-df-spinner');\n",
              "          try {\n",
              "            const charts = await google.colab.kernel.invokeFunction(\n",
              "                'suggestCharts', [key], {});\n",
              "          } catch (error) {\n",
              "            console.error('Error during call to suggestCharts:', error);\n",
              "          }\n",
              "          quickchartButtonEl.classList.remove('colab-df-spinner');\n",
              "          quickchartButtonEl.classList.add('colab-df-quickchart-complete');\n",
              "        }\n",
              "        (() => {\n",
              "          let quickchartButtonEl =\n",
              "            document.querySelector('#df-e0af88d7-ac30-437d-a916-e311fc6133da button');\n",
              "          quickchartButtonEl.style.display =\n",
              "            google.colab.kernel.accessAllowed ? 'block' : 'none';\n",
              "        })();\n",
              "      </script>\n",
              "    </div>\n",
              "\n",
              "    </div>\n",
              "  </div>\n"
            ],
            "application/vnd.google.colaboratory.intrinsic+json": {
              "type": "dataframe",
              "variable_name": "df",
              "summary": "{\n  \"name\": \"df\",\n  \"rows\": 12495,\n  \"fields\": [\n    {\n      \"column\": \"reviewId\",\n      \"properties\": {\n        \"dtype\": \"string\",\n        \"num_unique_values\": 12495,\n        \"samples\": [\n          \"gp:AOqpTOFFymtN3nnbHJrkAjHfBO5eLncdMIsvSs9EXdjs0XIebapApViAjD2jHzLGME8aAVhIdvI1_m5Z6i57bQ\",\n          \"gp:AOqpTOE4HAQqHMoeH_sGJ850PeeCeB64_AY-eGqyhDx32tRRJE4QEkEPA8W4csLx23gURZzZwR-XXBudqVmfsQ\",\n          \"gp:AOqpTOH8mznEDPIiBSAGFgbbG56CX-Bi5otRxNelmUH6-d2xO06NQ92NGRLVweXj00D4thvw6qdUNCJvQ9LFKWE\"\n        ],\n        \"semantic_type\": \"\",\n        \"description\": \"\"\n      }\n    },\n    {\n      \"column\": \"userName\",\n      \"properties\": {\n        \"dtype\": \"string\",\n        \"num_unique_values\": 11967,\n        \"samples\": [\n          \"Pat Homer\",\n          \"Jordan Roath\",\n          \"Jessica Baxter\"\n        ],\n        \"semantic_type\": \"\",\n        \"description\": \"\"\n      }\n    },\n    {\n      \"column\": \"userImage\",\n      \"properties\": {\n        \"dtype\": \"string\",\n        \"num_unique_values\": 12037,\n        \"samples\": [\n          \"https://play-lh.googleusercontent.com/-i-beL99jMVU/AAAAAAAAAAI/AAAAAAAAAAA/AMZuucm4YIAwT0gWDdRF6SKzbCW0oVV7fQ/photo.jpg\",\n          \"https://play-lh.googleusercontent.com/-341OY-HCJsI/AAAAAAAAAAI/AAAAAAAAAAA/AMZuucnUgK9GSRBapnTTRQi-LRgnmZrCmg/photo.jpg\",\n          \"https://play-lh.googleusercontent.com/a-/AOh14GjBrkWT9MhPZaxYXucZjFinkwXG1kOSVZdhRS4Erw\"\n        ],\n        \"semantic_type\": \"\",\n        \"description\": \"\"\n      }\n    },\n    {\n      \"column\": \"content\",\n      \"properties\": {\n        \"dtype\": \"string\",\n        \"num_unique_values\": 11807,\n        \"samples\": [\n          \"Awesome app! Easier to keep track of schedule and never forget a thing.\",\n          \"This app is perfect for my needs but there is one issue that I just noticed on repeated tasks. Once you hit complete the task, it will not add automaticly the next task. You have to check and then uncheck the task in order to show the next repeated task. Otherwise if you leave the task checked, it will not remind you for the next repeated task.\",\n          \"Non-functional with Google account. Was great, but can't use right now.\"\n        ],\n        \"semantic_type\": \"\",\n        \"description\": \"\"\n      }\n    },\n    {\n      \"column\": \"score\",\n      \"properties\": {\n        \"dtype\": \"number\",\n        \"std\": 1,\n        \"min\": 1,\n        \"max\": 5,\n        \"num_unique_values\": 5,\n        \"samples\": [\n          2,\n          5,\n          3\n        ],\n        \"semantic_type\": \"\",\n        \"description\": \"\"\n      }\n    },\n    {\n      \"column\": \"thumbsUpCount\",\n      \"properties\": {\n        \"dtype\": \"number\",\n        \"std\": 14,\n        \"min\": 0,\n        \"max\": 397,\n        \"num_unique_values\": 139,\n        \"samples\": [\n          162,\n          73,\n          49\n        ],\n        \"semantic_type\": \"\",\n        \"description\": \"\"\n      }\n    },\n    {\n      \"column\": \"reviewCreatedVersion\",\n      \"properties\": {\n        \"dtype\": \"category\",\n        \"num_unique_values\": 497,\n        \"samples\": [\n          \"4.3.6\",\n          \"15.2.0\",\n          \"3.8\"\n        ],\n        \"semantic_type\": \"\",\n        \"description\": \"\"\n      }\n    },\n    {\n      \"column\": \"at\",\n      \"properties\": {\n        \"dtype\": \"object\",\n        \"num_unique_values\": 12491,\n        \"samples\": [\n          \"2020-04-01 11:31:38\",\n          \"2020-10-24 03:02:55\",\n          \"2020-09-29 02:38:52\"\n        ],\n        \"semantic_type\": \"\",\n        \"description\": \"\"\n      }\n    },\n    {\n      \"column\": \"replyContent\",\n      \"properties\": {\n        \"dtype\": \"category\",\n        \"num_unique_values\": 4781,\n        \"samples\": [\n          \"Sad rating  ;(\",\n          \"Hi, please remember that BC is the Android app i.e. it is developed for Android devices only. A desktop version would be a completely different platform, which would require new code = new app. Currently we do not have the capacity to develop a new app as our small team of developers is constantly involved in the development of BC 2 Android app\",\n          \"\\ud83d\\udc97\\ud83d\\ude0a\"\n        ],\n        \"semantic_type\": \"\",\n        \"description\": \"\"\n      }\n    },\n    {\n      \"column\": \"repliedAt\",\n      \"properties\": {\n        \"dtype\": \"date\",\n        \"min\": \"2013-01-14 13:17:53\",\n        \"max\": \"2020-10-28 01:36:33\",\n        \"num_unique_values\": 5818,\n        \"samples\": [\n          \"2020-09-15 13:25:15\",\n          \"2020-04-03 09:18:54\",\n          \"2017-09-04 02:28:41\"\n        ],\n        \"semantic_type\": \"\",\n        \"description\": \"\"\n      }\n    },\n    {\n      \"column\": \"sortOrder\",\n      \"properties\": {\n        \"dtype\": \"category\",\n        \"num_unique_values\": 1,\n        \"samples\": [\n          \"newest\"\n        ],\n        \"semantic_type\": \"\",\n        \"description\": \"\"\n      }\n    },\n    {\n      \"column\": \"appId\",\n      \"properties\": {\n        \"dtype\": \"category\",\n        \"num_unique_values\": 15,\n        \"samples\": [\n          \"prox.lab.calclock\"\n        ],\n        \"semantic_type\": \"\",\n        \"description\": \"\"\n      }\n    }\n  ]\n}"
            }
          },
          "metadata": {},
          "execution_count": 102
        }
      ],
      "source": [
        "\n",
        "url = 'https://raw.githubusercontent.com/jella/playstore-sentiment-analysis/refs/heads/main/dataset/reviews.csv'\n",
        "df = pd.read_csv(url)\n",
        "df.head()\n"
      ]
    },
    {
      "cell_type": "markdown",
      "id": "0fb9cf07",
      "metadata": {
        "id": "0fb9cf07"
      },
      "source": [
        "### Análise Exploratória"
      ]
    },
    {
      "cell_type": "code",
      "execution_count": 103,
      "id": "a3b01598",
      "metadata": {
        "colab": {
          "base_uri": "https://localhost:8080/",
          "height": 802
        },
        "id": "a3b01598",
        "outputId": "3ed317cb-d6b1-4648-9e05-91f82bd07580"
      },
      "outputs": [
        {
          "output_type": "stream",
          "name": "stdout",
          "text": [
            "<class 'pandas.core.frame.DataFrame'>\n",
            "RangeIndex: 12495 entries, 0 to 12494\n",
            "Data columns (total 12 columns):\n",
            " #   Column                Non-Null Count  Dtype \n",
            "---  ------                --------------  ----- \n",
            " 0   reviewId              12495 non-null  object\n",
            " 1   userName              12495 non-null  object\n",
            " 2   userImage             12495 non-null  object\n",
            " 3   content               12495 non-null  object\n",
            " 4   score                 12495 non-null  int64 \n",
            " 5   thumbsUpCount         12495 non-null  int64 \n",
            " 6   reviewCreatedVersion  10333 non-null  object\n",
            " 7   at                    12495 non-null  object\n",
            " 8   replyContent          5818 non-null   object\n",
            " 9   repliedAt             5818 non-null   object\n",
            " 10  sortOrder             12495 non-null  object\n",
            " 11  appId                 12495 non-null  object\n",
            "dtypes: int64(2), object(10)\n",
            "memory usage: 1.1+ MB\n"
          ]
        },
        {
          "output_type": "display_data",
          "data": {
            "text/plain": [
              "<Figure size 640x480 with 1 Axes>"
            ],
            "image/png": "[encoded data removed]"
          },
          "metadata": {}
        }
      ],
      "source": [
        "\n",
        "df.info()\n",
        "df.isnull().sum()\n",
        "sns.countplot(x='score', data=df)\n",
        "plt.title('Distribuição das Avaliações')\n",
        "plt.show()\n"
      ]
    },
    {
      "cell_type": "markdown",
      "id": "4f3bed05",
      "metadata": {
        "id": "4f3bed05"
      },
      "source": [
        "### Pré-processamento e Limpeza"
      ]
    },
    {
      "cell_type": "code",
      "execution_count": 104,
      "id": "691e4457",
      "metadata": {
        "colab": {
          "base_uri": "https://localhost:8080/"
        },
        "id": "691e4457",
        "outputId": "b8f03058-a672-45cf-9bd4-b86fedd5046b"
      },
      "outputs": [
        {
          "output_type": "stream",
          "name": "stderr",
          "text": [
            "/tmp/ipython-input-104-863851417.py:3: SettingWithCopyWarning: \n",
            "A value is trying to be set on a copy of a slice from a DataFrame.\n",
            "Try using .loc[row_indexer,col_indexer] = value instead\n",
            "\n",
            "See the caveats in the documentation: https://pandas.pydata.org/pandas-docs/stable/user_guide/indexing.html#returning-a-view-versus-a-copy\n",
            "  df['sentiment'] = df['score'].apply(lambda x: 1 if x >= 4 else 0)\n"
          ]
        }
      ],
      "source": [
        "\n",
        "df.dropna(subset=['content', 'score'], inplace=True)\n",
        "df = df[df['score'] != 3]\n",
        "df['sentiment'] = df['score'].apply(lambda x: 1 if x >= 4 else 0)\n",
        "\n",
        "def clean_text(text):\n",
        "    text = text.lower()\n",
        "    text = re.sub(r'<.*?>', '', text)\n",
        "    text = re.sub(r'[%s]' % re.escape(string.punctuation), '', text)\n",
        "    text = re.sub(r'\\d+', '', text)\n",
        "    text = re.sub(r'\\s+', ' ', text)\n",
        "    return text.strip()\n",
        "\n",
        "stop_words = set(stopwords.words('english'))\n",
        "df['clean_content'] = df['content'].apply(clean_text)\n",
        "df['clean_content'] = df['clean_content'].apply(lambda x: ' '.join([word for word in x.split() if word not in stop_words]))\n"
      ]
    },
    {
      "cell_type": "markdown",
      "id": "0e125927",
      "metadata": {
        "id": "0e125927"
      },
      "source": [
        "### Separação Treino/Teste (Holdout)"
      ]
    },
    {
      "cell_type": "code",
      "execution_count": 105,
      "id": "ad18caab",
      "metadata": {
        "id": "ad18caab"
      },
      "outputs": [],
      "source": [
        "\n",
        "SEED = 42\n",
        "X = df['clean_content']\n",
        "y = df['sentiment']\n",
        "X_train, X_test, y_train, y_test = train_test_split(X, y, test_size=0.2, random_state=SEED, stratify=y)\n"
      ]
    },
    {
      "cell_type": "markdown",
      "source": [
        "### Transformação de Dados (Normalização e Padronização)\n",
        "\n",
        "Neste projeto, os dados de entrada são textos, que foram transformados em vetores numéricos utilizando o **TF-IDF (Term Frequency–Inverse Document Frequency)**. O `TfidfVectorizer`:\n",
        "\n",
        "- Já realiza uma **normalização interna dos vetores** (L2, por padrão).\n",
        "- Gera uma **matriz esparsa**, onde aplicar `StandardScaler` ou `MinMaxScaler` **não faz sentido nem é necessário**.\n",
        "- É apropriado para alimentar modelos diretamente, como Naive Bayes, SVM linear, KNN e Decision Tree, sem escalonamento adicional.\n",
        "\n",
        "#### Conclusão:\n",
        "\n",
        "Não aplicamos técnicas adicionais de normalização ou padronização neste pipeline, pois:\n",
        "- O vetor TF-IDF já está em escala relativa e normalizada.\n",
        "- Os modelos utilizados funcionam corretamente com os dados da forma atual.\n",
        "- A aplicação de scalers em vetores de texto pode até prejudicar o desempenho ou gerar erros."
      ],
      "metadata": {
        "id": "C8siP3kM4KHZ"
      },
      "id": "C8siP3kM4KHZ"
    },
    {
      "cell_type": "markdown",
      "id": "1e30c57d",
      "metadata": {
        "id": "1e30c57d"
      },
      "source": [
        "### Modelagem com Algoritmos Clássicos (Linha de Base)"
      ]
    },
    {
      "cell_type": "code",
      "execution_count": 106,
      "id": "05c0a35f",
      "metadata": {
        "colab": {
          "base_uri": "https://localhost:8080/",
          "height": 1000
        },
        "id": "05c0a35f",
        "outputId": "9438a9d1-e8cf-41e0-e187-a08aae644493"
      },
      "outputs": [
        {
          "output_type": "stream",
          "name": "stdout",
          "text": [
            "\n",
            "📌 Modelo (linha base): Naive Bayes\n",
            "Accuracy: 0.8496\n",
            "Precision: 0.8515\n",
            "Recall: 0.8731\n",
            "F1: 0.8620\n",
            "\n",
            "📌 Modelo (linha base): SVM\n",
            "Accuracy: 0.8404\n",
            "Precision: 0.8508\n",
            "Recall: 0.8539\n",
            "F1: 0.8520\n",
            "\n",
            "📌 Modelo (linha base): KNN\n",
            "Accuracy: 0.5823\n",
            "Precision: 0.5707\n",
            "Recall: 0.9091\n",
            "F1: 0.7005\n",
            "\n",
            "📌 Modelo (linha base): Decision Tree\n",
            "Accuracy: 0.7600\n",
            "Precision: 0.7570\n",
            "Recall: 0.8169\n",
            "F1: 0.7857\n"
          ]
        },
        {
          "output_type": "display_data",
          "data": {
            "text/plain": [
              "<Figure size 1000x600 with 1 Axes>"
            ],
            "image/png": "[encoded data removed]"
          },
          "metadata": {}
        },
        {
          "output_type": "display_data",
          "data": {
            "text/plain": [
              "<Figure size 1000x600 with 1 Axes>"
            ],
            "image/png": "[encoded data removed]"
          },
          "metadata": {}
        },
        {
          "output_type": "display_data",
          "data": {
            "text/plain": [
              "<Figure size 1000x600 with 1 Axes>"
            ],
            "image/png": "[encoded data removed]"
          },
          "metadata": {}
        },
        {
          "output_type": "display_data",
          "data": {
            "text/plain": [
              "<Figure size 1000x600 with 1 Axes>"
            ],
            "image/png": "[encoded data removed]"
          },
          "metadata": {}
        }
      ],
      "source": [
        "from sklearn.model_selection import cross_validate\n",
        "import matplotlib.pyplot as plt\n",
        "import pandas as pd\n",
        "\n",
        "baseline_models = {\n",
        "    'Naive Bayes': MultinomialNB(),\n",
        "    'SVM': LinearSVC(),\n",
        "    'KNN': KNeighborsClassifier(),\n",
        "    'Decision Tree': DecisionTreeClassifier()\n",
        "}\n",
        "\n",
        "# Armazenar resultados\n",
        "metricas = {\n",
        "    'accuracy': [],\n",
        "    'precision': [],\n",
        "    'recall': [],\n",
        "    'f1': []\n",
        "}\n",
        "nomes_modelos = []\n",
        "\n",
        "for nome, modelo in baseline_models.items():\n",
        "    print(f\"\\n📌 Modelo (linha base): {nome}\")\n",
        "    pipe = Pipeline([\n",
        "        ('tfidf', TfidfVectorizer()),\n",
        "        ('model', modelo)\n",
        "    ])\n",
        "\n",
        "    scores = cross_validate(\n",
        "        pipe, X_train, y_train,\n",
        "        cv=5,\n",
        "        scoring=['accuracy', 'precision', 'recall', 'f1'],\n",
        "        return_train_score=False\n",
        "    )\n",
        "\n",
        "    # Guardar métricas por modelo\n",
        "    for metrica in metricas:\n",
        "        metricas[metrica].append(scores[f'test_{metrica}'])\n",
        "\n",
        "    nomes_modelos.append(nome)\n",
        "\n",
        "    # Exibir médias\n",
        "    for metrica in metricas:\n",
        "        print(f\"{metrica.capitalize()}: {scores[f'test_{metrica}'].mean():.4f}\")\n",
        "\n",
        "# Gerar boxplots\n",
        "for metrica in metricas:\n",
        "    plt.figure(figsize=(10, 6))\n",
        "    plt.boxplot(metricas[metrica], tick_labels=nomes_modelos)\n",
        "    plt.title(f\"Boxplot da Métrica: {metrica.capitalize()}\")\n",
        "    plt.ylabel(metrica.capitalize())\n",
        "    plt.grid(axis='y')\n",
        "    plt.show()\n"
      ]
    },
    {
      "cell_type": "markdown",
      "id": "39a45301",
      "metadata": {
        "id": "39a45301"
      },
      "source": [
        "### Otimização de Hiperparâmetros (GridSearchCV)"
      ]
    },
    {
      "cell_type": "code",
      "execution_count": 107,
      "id": "1a24b2ed",
      "metadata": {
        "colab": {
          "base_uri": "https://localhost:8080/",
          "height": 1000
        },
        "id": "1a24b2ed",
        "outputId": "f2f879cb-1ec3-40d8-f6ed-b789406b236a"
      },
      "outputs": [
        {
          "output_type": "stream",
          "name": "stdout",
          "text": [
            "\n",
            "🔍 Treinando modelo com GridSearchCV: Naive Bayes\n",
            "Melhores parâmetros: {'model__alpha': 1.0, 'tfidf__max_df': 0.8, 'tfidf__min_df': 2}\n",
            "CV Score: 0.8489 ± 0.0066\n",
            "Intervalo: [0.8370, 0.8560]\n",
            "\n",
            "🔍 Treinando modelo com GridSearchCV: SVM\n",
            "Melhores parâmetros: {'model__C': 1, 'tfidf__max_df': 0.8, 'tfidf__min_df': 2}\n",
            "CV Score: 0.8407 ± 0.0074\n",
            "Intervalo: [0.8299, 0.8501]\n",
            "\n",
            "🔍 Treinando modelo com GridSearchCV: KNN\n",
            "Melhores parâmetros: {'model__n_neighbors': 3, 'tfidf__max_df': 0.8, 'tfidf__min_df': 5}\n",
            "CV Score: 0.6253 ± 0.0185\n",
            "Intervalo: [0.5925, 0.6470]\n",
            "\n",
            "🔍 Treinando modelo com GridSearchCV: Decision Tree\n",
            "Melhores parâmetros: {'model__max_depth': None, 'tfidf__max_df': 0.8, 'tfidf__min_df': 5}\n",
            "CV Score: 0.7577 ± 0.0107\n",
            "Intervalo: [0.7442, 0.7690]\n"
          ]
        },
        {
          "output_type": "display_data",
          "data": {
            "text/plain": [
              "<Figure size 1400x800 with 1 Axes>"
            ],
            "image/png": "[encoded data removed]"
          },
          "metadata": {}
        },
        {
          "output_type": "stream",
          "name": "stdout",
          "text": [
            "\n",
            "Resumo Estatístico:\n",
            "                 mean     std     min     max\n",
            "Naive Bayes    0.8489  0.0066  0.8370  0.8560\n",
            "SVM            0.8407  0.0074  0.8299  0.8501\n",
            "KNN            0.6253  0.0185  0.5925  0.6470\n",
            "Decision Tree  0.7577  0.0107  0.7442  0.7690\n"
          ]
        }
      ],
      "source": [
        "from sklearn.model_selection import cross_val_score\n",
        "import matplotlib.pyplot as plt\n",
        "\n",
        "# Versão otimizada\n",
        "modelos_treinados = {}\n",
        "resultados_cv = []\n",
        "nomes_modelos = []\n",
        "estatisticas = []\n",
        "\n",
        "\n",
        "# Definição dos modelos e seus grids de hiperparâmetros\n",
        "modelos_grids = {\n",
        "    'Naive Bayes': {\n",
        "        'pipeline': Pipeline([\n",
        "            ('tfidf', TfidfVectorizer()),\n",
        "            ('model', MultinomialNB())\n",
        "        ]),\n",
        "        'param_grid': {\n",
        "            'tfidf__max_df': [0.8, 1.0],\n",
        "            'tfidf__min_df': [2, 5],\n",
        "            'model__alpha': [0.5, 1.0]\n",
        "        }\n",
        "    },\n",
        "    'SVM': {\n",
        "        'pipeline': Pipeline([\n",
        "            ('tfidf', TfidfVectorizer()),\n",
        "            ('model', LinearSVC(max_iter=10000))\n",
        "        ]),\n",
        "        'param_grid': {\n",
        "            'tfidf__max_df': [0.8, 1.0],\n",
        "            'tfidf__min_df': [2, 5],\n",
        "            'model__C': [1, 10]\n",
        "        }\n",
        "    },\n",
        "    'KNN': {\n",
        "        'pipeline': Pipeline([\n",
        "            ('tfidf', TfidfVectorizer()),\n",
        "            ('model', KNeighborsClassifier())\n",
        "        ]),\n",
        "        'param_grid': {\n",
        "            'tfidf__max_df': [0.8, 1.0],\n",
        "            'tfidf__min_df': [2, 5],\n",
        "            'model__n_neighbors': [3, 5, 7]\n",
        "        }\n",
        "    },\n",
        "    'Decision Tree': {\n",
        "        'pipeline': Pipeline([\n",
        "            ('tfidf', TfidfVectorizer()),\n",
        "            ('model', DecisionTreeClassifier(random_state=42))\n",
        "        ]),\n",
        "        'param_grid': {\n",
        "            'tfidf__max_df': [0.8, 1.0],\n",
        "            'tfidf__min_df': [2, 5],\n",
        "            'model__max_depth': [10, 20, None]\n",
        "        }\n",
        "    }\n",
        "}\n",
        "\n",
        "for nome, config in modelos_grids.items():\n",
        "    print(f\"\\n🔍 Treinando modelo com GridSearchCV: {nome}\")\n",
        "    grid = GridSearchCV(config['pipeline'], config['param_grid'],\n",
        "                       cv=5, scoring='accuracy', n_jobs=-1)\n",
        "    grid.fit(X_train, y_train)\n",
        "    modelos_treinados[nome] = grid\n",
        "\n",
        "    # Coleta scores do melhor estimador\n",
        "    cv_scores = cross_val_score(grid.best_estimator_, X_train, y_train,\n",
        "                               cv=5, scoring='accuracy')\n",
        "\n",
        "    resultados_cv.append(cv_scores)\n",
        "    nomes_modelos.append(nome)\n",
        "\n",
        "    # Estatísticas descritivas\n",
        "    stats = {\n",
        "        'mean': np.mean(cv_scores),\n",
        "        'std': np.std(cv_scores),\n",
        "        'min': np.min(cv_scores),\n",
        "        'max': np.max(cv_scores)\n",
        "    }\n",
        "    estatisticas.append(stats)\n",
        "\n",
        "    print(f\"Melhores parâmetros: {grid.best_params_}\")\n",
        "    print(f\"CV Score: {stats['mean']:.4f} ± {stats['std']:.4f}\")\n",
        "    print(f\"Intervalo: [{stats['min']:.4f}, {stats['max']:.4f}]\")\n",
        "\n",
        "# Visualização aprimorada\n",
        "plt.figure(figsize=(14, 8))\n",
        "box_plot = plt.boxplot(resultados_cv, tick_labels=nomes_modelos, patch_artist=True)\n",
        "\n",
        "\n",
        "plt.title(\"Comparação de Modelos - Validação Cruzada\", fontsize=16, fontweight='bold')\n",
        "plt.ylabel(\"Acurácia\", fontsize=12)\n",
        "plt.grid(axis='y', alpha=0.3)\n",
        "plt.xticks(rotation=45)\n",
        "plt.tight_layout()\n",
        "plt.show()\n",
        "\n",
        "# Tabela resumo\n",
        "import pandas as pd\n",
        "df_stats = pd.DataFrame(estatisticas, index=nomes_modelos)\n",
        "print(\"\\nResumo Estatístico:\")\n",
        "print(df_stats.round(4))"
      ]
    },
    {
      "cell_type": "markdown",
      "id": "4db44a72",
      "metadata": {
        "id": "4db44a72"
      },
      "source": [
        "### Avaliação dos Modelos Otimizados"
      ]
    },
    {
      "cell_type": "code",
      "execution_count": 108,
      "id": "bb7a37f8",
      "metadata": {
        "colab": {
          "base_uri": "https://localhost:8080/"
        },
        "id": "bb7a37f8",
        "outputId": "951d497b-da6b-4cb3-8111-6d3f0f513040"
      },
      "outputs": [
        {
          "output_type": "stream",
          "name": "stdout",
          "text": [
            "\n",
            "📌 Avaliação Final - Naive Bayes\n",
            "Accuracy: 0.8514992860542598\n",
            "Confusion Matrix:\n",
            " [[807 163]\n",
            " [149 982]]\n",
            "Classification Report:\n",
            "               precision    recall  f1-score   support\n",
            "\n",
            "    Negativo       0.84      0.83      0.84       970\n",
            "    Positivo       0.86      0.87      0.86      1131\n",
            "\n",
            "    accuracy                           0.85      2101\n",
            "   macro avg       0.85      0.85      0.85      2101\n",
            "weighted avg       0.85      0.85      0.85      2101\n",
            "\n",
            "\n",
            "📌 Avaliação Final - SVM\n",
            "Accuracy: 0.8357924797715374\n",
            "Confusion Matrix:\n",
            " [[793 177]\n",
            " [168 963]]\n",
            "Classification Report:\n",
            "               precision    recall  f1-score   support\n",
            "\n",
            "    Negativo       0.83      0.82      0.82       970\n",
            "    Positivo       0.84      0.85      0.85      1131\n",
            "\n",
            "    accuracy                           0.84      2101\n",
            "   macro avg       0.83      0.83      0.83      2101\n",
            "weighted avg       0.84      0.84      0.84      2101\n",
            "\n",
            "\n",
            "📌 Avaliação Final - KNN\n",
            "Accuracy: 0.626844359828653\n",
            "Confusion Matrix:\n",
            " [[484 486]\n",
            " [298 833]]\n",
            "Classification Report:\n",
            "               precision    recall  f1-score   support\n",
            "\n",
            "    Negativo       0.62      0.50      0.55       970\n",
            "    Positivo       0.63      0.74      0.68      1131\n",
            "\n",
            "    accuracy                           0.63      2101\n",
            "   macro avg       0.63      0.62      0.62      2101\n",
            "weighted avg       0.63      0.63      0.62      2101\n",
            "\n",
            "\n",
            "📌 Avaliação Final - Decision Tree\n",
            "Accuracy: 0.7767729652546407\n",
            "Confusion Matrix:\n",
            " [[705 265]\n",
            " [204 927]]\n",
            "Classification Report:\n",
            "               precision    recall  f1-score   support\n",
            "\n",
            "    Negativo       0.78      0.73      0.75       970\n",
            "    Positivo       0.78      0.82      0.80      1131\n",
            "\n",
            "    accuracy                           0.78      2101\n",
            "   macro avg       0.78      0.77      0.77      2101\n",
            "weighted avg       0.78      0.78      0.78      2101\n",
            "\n"
          ]
        }
      ],
      "source": [
        "\n",
        "resultados = {}\n",
        "for nome, modelo in modelos_treinados.items():\n",
        "    print(f\"\\n📌 Avaliação Final - {nome}\")\n",
        "    y_pred = modelo.predict(X_test)\n",
        "    print(\"Accuracy:\", accuracy_score(y_test, y_pred))\n",
        "    print(\"Confusion Matrix:\\n\", confusion_matrix(y_test, y_pred))\n",
        "    print(\"Classification Report:\\n\", classification_report(y_test, y_pred, target_names=[\"Negativo\", \"Positivo\"]))\n",
        "    resultados[nome] = accuracy_score(y_test, y_pred)\n"
      ]
    },
    {
      "cell_type": "markdown",
      "id": "c5649a52",
      "metadata": {
        "id": "c5649a52"
      },
      "source": [
        "### Exportação do Modelo Final"
      ]
    },
    {
      "cell_type": "code",
      "execution_count": 109,
      "id": "bcc9139b",
      "metadata": {
        "colab": {
          "base_uri": "https://localhost:8080/"
        },
        "id": "bcc9139b",
        "outputId": "adf65289-4bbe-456a-9105-915d165dd86f"
      },
      "outputs": [
        {
          "output_type": "stream",
          "name": "stdout",
          "text": [
            "Modelo salvo: Naive Bayes\n"
          ]
        }
      ],
      "source": [
        "\n",
        "melhor_modelo_nome = max(resultados, key=resultados.get)\n",
        "melhor_modelo = modelos_treinados[melhor_modelo_nome]\n",
        "joblib.dump(melhor_modelo.best_estimator_, 'sentiment_model.pkl')\n",
        "print(f'Modelo salvo: {melhor_modelo_nome}')\n"
      ]
    },
    {
      "cell_type": "markdown",
      "id": "433806c6",
      "metadata": {
        "id": "433806c6"
      },
      "source": [
        "\n",
        "### Conclusões\n",
        "\n",
        "O modelo com melhor desempenho foi selecionado após análise de diversos algoritmos usando validação cruzada e otimização de hiperparâmetros. As métricas de precisão, recall e F1-score indicam que o modelo está apto a identificar avaliações positivas e negativas com alta confiabilidade.\n",
        "\n"
      ]
    },
    {
      "cell_type": "markdown",
      "source": [
        "### Conclusão Final\n",
        "\n",
        "Após todas as etapas de pré-processamento, modelagem, validação cruzada e análise comparativa entre os algoritmos Naive Bayes, SVM, KNN e Árvore de Decisão, foi possível identificar com clareza qual modelo apresentou o melhor desempenho para a tarefa de classificação de sentimentos em avaliações da Google Play Store.\n",
        "\n",
        "**O modelo Naive Bayes foi o que se destacou**, com os seguintes pontos fortes:\n",
        "\n",
        "- **Melhor acurácia média** na validação cruzada: 0.8439\n",
        "- **Menor desvio padrão**, indicando alta estabilidade nos resultados\n",
        "- **Melhor desempenho em F1-score** (0.8620) na avaliação da linha de base\n",
        "- **Maior recall**, o que significa melhor capacidade de identificar corretamente avaliações positivas\n",
        "\n",
        "Embora o SVM também tenha apresentado bom desempenho, ele foi levemente inferior ao Naive Bayes em todas as métricas principais. Já os modelos KNN e Árvore de Decisão mostraram desempenho significativamente menor, com destaque para o KNN, que apresentou alta taxa de falsos positivos.\n",
        "\n",
        "Dessa forma, **o modelo Naive Bayes foi escolhido como a solução final para o problema proposto**, sendo salvo e exportado para ser utilizado na aplicação full stack.\n",
        "\n",
        "---"
      ],
      "metadata": {
        "id": "T1yNSQgV6jtf"
      },
      "id": "T1yNSQgV6jtf"
    },
    {
      "cell_type": "markdown",
      "source": [
        "### Reflexão: Boas Práticas de Desenvolvimento Seguro no Projeto de Classificação de Sentimentos\n",
        "No contexto do projeto de classificação de sentimentos, aplicar boas práticas de segurança é essencial, mesmo em ambientes de demonstração. Caso fossem utilizados dados reais de usuários, técnicas de anonimização (como remoção de nomes ou e-mails com NLP) evitariam vazamentos de informações pessoais.\n",
        "\n",
        "Além disso, a validação e sanitização das entradas no front-end e no back-end previnem ataques como XSS ou falhas por dados malformados. A minimização de dados, armazenando apenas o necessário para a predição, reduz riscos em caso de vazamento.\n",
        "\n",
        "A aplicação também deve usar CORS bem configurado e manter o modelo (.pkl) em locais protegidos no servidor. Por fim, boas práticas como monitoramento de uso da API e log seguro das predições ajudam a manter o controle e a integridade do sistema em ambientes reais."
      ],
      "metadata": {
        "id": "ayi-bcvqOdpa"
      },
      "id": "ayi-bcvqOdpa"
    },
    {
      "cell_type": "markdown",
      "id": "cf029eb3",
      "metadata": {
        "id": "cf029eb3"
      },
      "source": [
        "\n",
        "### Referências\n",
        "\n",
        "- Dataset: [Kaggle - Google Play Store Reviews](https://www.kaggle.com/datasets/prakharrathi25/google-play-store-reviews)\n"
      ]
    }
  ],
  "metadata": {
    "language_info": {
      "name": "python"
    },
    "colab": {
      "provenance": [],
      "include_colab_link": true
    },
    "kernelspec": {
      "name": "python3",
      "display_name": "Python 3"
    }
  },
  "nbformat": 4,
  "nbformat_minor": 5
}